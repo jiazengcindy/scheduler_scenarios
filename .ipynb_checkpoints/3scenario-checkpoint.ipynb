{
 "cells": [
  {
   "cell_type": "markdown",
   "id": "4e8f9200",
   "metadata": {},
   "source": [
    "Collect sample codes of following scheduling scenarios:\n",
    "- Endpoint. Publish.\n",
    "- Pipeline run. No publish.\n",
    "- Pipeline (dsl). No publish."
   ]
  },
  {
   "cell_type": "code",
   "execution_count": 4,
   "id": "8d1654fc",
   "metadata": {},
   "outputs": [],
   "source": [
    "from azureml.core import Workspace\n",
    "from azureml.pipeline.core.schedule import ScheduleRecurrence, Schedule\n",
    "from azureml.pipeline.core import Pipeline, PublishedPipeline\n",
    "from azureml.pipeline.core import PipelineEndpoint\n",
    "import warnings\n",
    "warnings.filterwarnings(\"ignore\")"
   ]
  },
  {
   "cell_type": "markdown",
   "id": "4716aadc",
   "metadata": {},
   "source": [
    "#### Endpoint. Publish.\n",
    "    - Create a new graph on the Portal.\n",
    "    - Submit the graph to an Experiment.\n",
    "    - Publish the graph to an endpoint, record the endpoint's name.\n",
    "    - Run the Python script as below.\n",
    "<https://ml.azure.com/endpoint/53978c39-b959-447c-978e-3ec21a3f0e0f/endpoint_test_1227/detail?wsid=/subscriptions/d128f140-94e6-4175-87a7-954b9d27db16/resourcegroups/ModuleX-rg/workspaces/chjinche-EastUS&tid=72f988bf-86f1-41af-91ab-2d7cd011db47>"
   ]
  },
  {
   "cell_type": "code",
   "execution_count": 5,
   "id": "c78726bc",
   "metadata": {},
   "outputs": [],
   "source": [
    "config_path = \"config.json\"\n",
    "ws = Workspace.from_config(path=config_path)\n",
    "\n",
    "pipeline_endpoint_by_name = PipelineEndpoint.get(workspace=ws, name=\"endpoint_test_1227\")\n",
    "published_pipeline_endpoint_id = pipeline_endpoint_by_name.id"
   ]
  },
  {
   "cell_type": "code",
   "execution_count": 7,
   "id": "14f668db",
   "metadata": {},
   "outputs": [],
   "source": [
    "recurrence = ScheduleRecurrence(frequency=\"Day\", interval=1)\n",
    "recurring_create_for_pipeline_endpoint = Schedule.create_for_pipeline_endpoint(workspace = ws,\n",
    "                                    name = \"MyEndpointRecurringSchedule\",\n",
    "                                     pipeline_endpoint_id = published_pipeline_endpoint_id,\n",
    "                                     experiment_name=\"endpoint_experiment_1227\",\n",
    "                                     description=\"Based on time\",      \n",
    "                                     pipeline_parameters={\"args\": \"default\"},\n",
    "                                     recurrence=recurrence\n",
    "                                     ) "
   ]
  },
  {
   "cell_type": "code",
   "execution_count": null,
   "id": "dcc596e2",
   "metadata": {},
   "outputs": [],
   "source": []
  },
  {
   "cell_type": "code",
   "execution_count": null,
   "id": "7bab0ae0",
   "metadata": {},
   "outputs": [],
   "source": []
  },
  {
   "cell_type": "markdown",
   "id": "fbb5fa00",
   "metadata": {},
   "source": [
    "#### Pipeline run. No publish.\n",
    "    - Create a new graph on the Portal.\n",
    "    - Submit the graph to an Experiment."
   ]
  },
  {
   "cell_type": "code",
   "execution_count": null,
   "id": "5946ffe9",
   "metadata": {},
   "outputs": [],
   "source": []
  },
  {
   "cell_type": "code",
   "execution_count": null,
   "id": "796a403f",
   "metadata": {},
   "outputs": [],
   "source": []
  },
  {
   "cell_type": "code",
   "execution_count": null,
   "id": "428879ca",
   "metadata": {},
   "outputs": [],
   "source": []
  },
  {
   "cell_type": "code",
   "execution_count": null,
   "id": "dcd916f5",
   "metadata": {},
   "outputs": [],
   "source": []
  },
  {
   "cell_type": "code",
   "execution_count": null,
   "id": "872d9f8c",
   "metadata": {},
   "outputs": [],
   "source": []
  },
  {
   "cell_type": "markdown",
   "id": "509ae2f8",
   "metadata": {},
   "source": [
    "#### Pipeline (dsl). No publish."
   ]
  },
  {
   "cell_type": "code",
   "execution_count": null,
   "id": "ec68366a",
   "metadata": {},
   "outputs": [],
   "source": []
  },
  {
   "cell_type": "code",
   "execution_count": null,
   "id": "56f8db43",
   "metadata": {},
   "outputs": [],
   "source": []
  },
  {
   "cell_type": "code",
   "execution_count": null,
   "id": "5ee7979e",
   "metadata": {},
   "outputs": [],
   "source": []
  },
  {
   "cell_type": "code",
   "execution_count": null,
   "id": "4de23897",
   "metadata": {},
   "outputs": [],
   "source": []
  },
  {
   "cell_type": "code",
   "execution_count": null,
   "id": "534dea49",
   "metadata": {},
   "outputs": [],
   "source": []
  }
 ],
 "metadata": {
  "kernelspec": {
   "display_name": "Python 3 (ipykernel)",
   "language": "python",
   "name": "python3"
  },
  "language_info": {
   "codemirror_mode": {
    "name": "ipython",
    "version": 3
   },
   "file_extension": ".py",
   "mimetype": "text/x-python",
   "name": "python",
   "nbconvert_exporter": "python",
   "pygments_lexer": "ipython3",
   "version": "3.8.5"
  }
 },
 "nbformat": 4,
 "nbformat_minor": 5
}
